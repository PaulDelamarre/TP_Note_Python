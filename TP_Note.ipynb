{
 "cells": [
  {
   "cell_type": "markdown",
   "metadata": {},
   "source": [
    "# TP noté\n"
   ]
  },
  {
   "cell_type": "markdown",
   "metadata": {},
   "source": [
    "Soit un graphe orienté G = (V, E) qui est constitué\n",
    "\n",
    "- d'un ensemble fini V = {v1, v2, ..., vn} de n éléments, appelés sommets\n",
    "- d'un ensemble fini E = {e1, e2, ..., em} appelés arcs avec ek = (vi, vj) est une paire ordonné de deux\n",
    "  sommets : vi est l’extrémité initiale, vj est l’extrémité finale, k de 1 à m ; vi, vj appartiennent à V\n"
   ]
  },
  {
   "cell_type": "markdown",
   "metadata": {},
   "source": [
    "1. Implémentez des classes nécessaires pour pouvoir instancier un graphe en demandant la saisie\n",
    "   des sommets et des arcs auprès de l'utilisateur\n"
   ]
  },
  {
   "cell_type": "code",
   "execution_count": 103,
   "metadata": {},
   "outputs": [
    {
     "name": "stdout",
     "output_type": "stream",
     "text": [
      "True\n"
     ]
    }
   ],
   "source": [
    "list = [1,2,3,4,5]\n",
    "print (1 in list)"
   ]
  },
  {
   "cell_type": "code",
   "execution_count": 104,
   "metadata": {},
   "outputs": [],
   "source": [
    "class Sommet : \n",
    "    id =0\n",
    "    def __init__(self , nom) -> None:\n",
    "        self.id = Sommet.id\n",
    "        Sommet.id += 1\n",
    "        self.nom = nom\n",
    " #       self.arcDepartId = set([])\n",
    " #       self.arcArriveId = set([])\n",
    " #   def addArcDepart(id):\n",
    " #       self.arcDepartId.append(id)\n",
    " #   def addArcArrive(id):\n",
    " #       self.arcArriveId.append(id)\n",
    "    def getNom(self):\n",
    "        return self.nom\n",
    "\n"
   ]
  },
  {
   "cell_type": "code",
   "execution_count": 105,
   "metadata": {},
   "outputs": [],
   "source": [
    "class Arc : \n",
    "    id = 0\n",
    "    def __init__(self , sommetDepart , sommetArrive , value) -> None:\n",
    "        self.id = Sommet.id\n",
    "        Sommet.id += 1\n",
    "        self.sommetDepart = Sommet(sommetDepart)\n",
    "        self.sommetArrive = Sommet(sommetArrive)\n",
    "        self.value = value\n",
    "    def getSommetDepart(self):\n",
    "        return self.sommetDepart  \n",
    "    def getSommetDepart(self):\n",
    "        return self.sommetArrive\n",
    "    def getValue(self):\n",
    "        return self.value          \n",
    "    "
   ]
  },
  {
   "cell_type": "code",
   "execution_count": 106,
   "metadata": {},
   "outputs": [],
   "source": [
    "class Graph : \n",
    "    id =0\n",
    "\n",
    "    def __existeSommet(self , nom):\n",
    "        existe = False\n",
    "        for sommet in self.listSommet:\n",
    "            if sommet.getNom() == nom:\n",
    "                existe = True\n",
    "                break\n",
    "        return existe\n",
    "\n",
    "\n",
    "    def __existeArc(self , dicoArc):\n",
    "        existe = False\n",
    "        for arc in self.listArc:\n",
    "            if arc.getSommetDepart().getNom() == dicoArc['sommetDepart'] and arc.getSommetArrive().getNom() == dicoArc['sommetArrive'] and arc.getValue() == dicoArc['value']:\n",
    "                existe = True\n",
    "                break\n",
    "        return existe   \n",
    "\n",
    "    def afficher(self):\n",
    "        print(\"Nombre de Sommet : \",self.nbrSommet)\n",
    "        for sommet in self.listSommet:\n",
    "            sommet.afficher()\n",
    "        print(\"Nombre d' Arc : \",self.nbrArc)\n",
    "        for arc in self.listArc:\n",
    "            arc.afficher()\n",
    "\n",
    "        \n",
    "    def __init__(self) -> None:\n",
    "        self.id = Graph.id\n",
    "        Graph.id += 1\n",
    "\n",
    "        self.listSommet = []\n",
    "        self.listArc = []\n",
    "\n",
    "        self.nbrSommet = int(input('Combien de Sommets ? : '))\n",
    "        i = 0\n",
    "        while i < self.nbrSommet:\n",
    "            infoCreationSommet = {'nom' : input('Nom du sommet : ')}\n",
    "            print(infoCreationSommet)\n",
    "            if self.__existeSommet(infoCreationSommet['nom']):\n",
    "                print(\"Le sommet existe déjà\")\n",
    "            else : \n",
    "                s = Sommet(infoCreationSommet['nom'])\n",
    "                self.listSommet.append(s)\n",
    "                i+=1\n",
    "        print(\"Liste de sommées crée\")\n",
    "        self.nbrArc = int(input('Combien d\\' Arc ? : '))  \n",
    "        i = 0\n",
    "        while i < self.nbrArc:\n",
    "            infoCreationArc = {'sommetDepart' : input('Nom du sommet de départ : ') , 'sommetArrive' : input('Nom du sommet d\\'arrivée : '),'value' : input('La valeur : ')}\n",
    "            if self.__existeArc(infoCreationArc):\n",
    "                print('Cet Arc existe déjà')\n",
    "            else:\n",
    "                if not self.__existeSommet(infoCreationArc['sommetDepart']):\n",
    "                    print(\"Le sommet de départ n'existe pas\")\n",
    "                else:\n",
    "                    if not self.__existeSommet(infoCreationArc['sommetArrive']):\n",
    "                        print(\"Le sommet d'arrivé n'existe pas\")\n",
    "                    else: \n",
    "                        s1 = Sommet(infoCreationArc['sommetDepart'])\n",
    "                        s2 = Sommet(infoCreationArc['sommetArrive'])\n",
    "                        value = infoCreationArc['value']\n",
    "                        a = Arc(s1,s2 , value)\n",
    "                        self.listArc.append(a)\n",
    "                        print(\"ça marche \")\n",
    "                        i+=1\n",
    "        print(\"Liste des Arcs crées\")\n",
    "        return 0\n",
    "\n",
    "    \n",
    "\n",
    "            \n",
    "\n",
    "\n",
    "    "
   ]
  },
  {
   "cell_type": "code",
   "execution_count": 107,
   "metadata": {},
   "outputs": [
    {
     "name": "stdout",
     "output_type": "stream",
     "text": [
      "{'nom': 'Paul'}\n",
      "{'nom': 'Ugo'}\n",
      "{'nom': 'Marc'}\n",
      "Liste de sommées crée\n",
      "ça marche \n",
      "[<__main__.Arc object at 0x105603cd0>]\n",
      "ça marche \n",
      "[<__main__.Arc object at 0x105603cd0>, <__main__.Arc object at 0x10737c2e0>]\n",
      "Liste des Arcs crées\n"
     ]
    }
   ],
   "source": [
    "g = Graph()"
   ]
  }
 ],
 "metadata": {
  "interpreter": {
   "hash": "b0fa6594d8f4cbf19f97940f81e996739fb7646882a419484c72d19e05852a7e"
  },
  "kernelspec": {
   "display_name": "Python 3.9.8 64-bit",
   "language": "python",
   "name": "python3"
  },
  "language_info": {
   "codemirror_mode": {
    "name": "ipython",
    "version": 3
   },
   "file_extension": ".py",
   "mimetype": "text/x-python",
   "name": "python",
   "nbconvert_exporter": "python",
   "pygments_lexer": "ipython3",
   "version": "3.9.8"
  },
  "orig_nbformat": 4
 },
 "nbformat": 4,
 "nbformat_minor": 2
}
