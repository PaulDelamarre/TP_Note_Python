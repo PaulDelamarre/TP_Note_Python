{
 "cells": [
  {
   "cell_type": "markdown",
   "metadata": {},
   "source": [
    "# TP noté\n"
   ]
  },
  {
   "cell_type": "markdown",
   "metadata": {},
   "source": [
    "Soit un graphe orienté G = (V, E) qui est constitué\n",
    "\n",
    "- d'un ensemble fini V = {v1, v2, ..., vn} de n éléments, appelés sommets\n",
    "- d'un ensemble fini E = {e1, e2, ..., em} appelés arcs avec ek = (vi, vj) est une paire ordonné de deux\n",
    "  sommets : vi est l’extrémité initiale, vj est l’extrémité finale, k de 1 à m ; vi, vj appartiennent à V\n"
   ]
  },
  {
   "cell_type": "markdown",
   "metadata": {},
   "source": [
    "1. Implémentez des classes nécessaires pour pouvoir instancier un graphe en demandant la saisie\n",
    "   des sommets et des arcs auprès de l'utilisateur\n"
   ]
  },
  {
   "cell_type": "code",
   "execution_count": null,
   "metadata": {},
   "outputs": [],
   "source": [
    "class Sommet : \n",
    "    id =0\n",
    "    def __init__(self , nom) -> None:\n",
    "        self.id = Sommet.id\n",
    "        Sommet.id += 1\n",
    "        self.nom = nom\n",
    "        self.arcDepartId = []\n",
    "        self.arcArrive = []\n",
    "    def addArc\n"
   ]
  },
  {
   "cell_type": "code",
   "execution_count": null,
   "metadata": {},
   "outputs": [],
   "source": [
    "class Graph : \n",
    "    def __init__(self) -> None:\n",
    "        self.nbrSommet = 0\n",
    "        self.listSommet = []\n",
    "        self.nbrArc = 0\n",
    "        self.listArc = []\n",
    "\n",
    "    def create(self) -> None:\n",
    "        self.nbrSommet = input('Combien de Sommet ? : ')\n",
    "        i = 0\n",
    "        while i < self.nbrSommet:\n",
    "            self.listSommet.append({'id':i,'nom': input(\"Nom du Sommet %s : \"%(i)) , 'arcDepart': [] , 'arcArrive' : []})\n",
    "            print(\"Liste de sommées crée\")\n",
    "        self.nbrArc = input('Combien de Sommet ? : ')   \n",
    "        i = 0\n",
    "        while i < self.nbrArc:\n",
    "            self.listArc.append({'id': i,'sommetDepartId' : input(\"Nom du Sommet de départ : \"),'sommetArriveId' : input(\"Nom du Sommet d'arrivé : \")})\n",
    "            print(\"Liste des arcs crées\") \n",
    " \n",
    "        for arc in self.listArc:\n",
    "            listSommet\n",
    "            \n",
    "\n",
    "\n",
    "    "
   ]
  }
 ],
 "metadata": {
  "interpreter": {
   "hash": "b0fa6594d8f4cbf19f97940f81e996739fb7646882a419484c72d19e05852a7e"
  },
  "kernelspec": {
   "display_name": "Python 3.9.8 64-bit",
   "language": "python",
   "name": "python3"
  },
  "language_info": {
   "codemirror_mode": {
    "name": "ipython",
    "version": 3
   },
   "file_extension": ".py",
   "mimetype": "text/x-python",
   "name": "python",
   "nbconvert_exporter": "python",
   "pygments_lexer": "ipython3",
   "version": "3.9.8"
  },
  "orig_nbformat": 4
 },
 "nbformat": 4,
 "nbformat_minor": 2
}
